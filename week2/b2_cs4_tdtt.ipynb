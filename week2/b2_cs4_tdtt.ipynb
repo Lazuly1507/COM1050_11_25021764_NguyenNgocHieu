{
 "cells": [
  {
   "cell_type": "markdown",
   "id": "cc9c19fc",
   "metadata": {},
   "source": [
    "Bài 1:"
   ]
  },
  {
   "cell_type": "code",
   "execution_count": null,
   "id": "6577a268",
   "metadata": {},
   "outputs": [
    {
     "name": "stdout",
     "output_type": "stream",
     "text": [
      "in ra  so gap doi n 4\n"
     ]
    }
   ],
   "source": [
    "n= int(input(\"nhap vao so nguyen n: \"))\n",
    "\n",
    "print(\"in ra  so gap doi n: \", n*2)"
   ]
  },
  {
   "cell_type": "markdown",
   "id": "15ad5919",
   "metadata": {},
   "source": [
    "Bài 2:"
   ]
  },
  {
   "cell_type": "code",
   "execution_count": null,
   "id": "d0aab660",
   "metadata": {},
   "outputs": [
    {
     "name": "stdout",
     "output_type": "stream",
     "text": [
      "dien tich con trong 6.86\n"
     ]
    }
   ],
   "source": [
    "\n",
    "a= float(input(\"nhap vao chieu rong a: \"))\n",
    "b= float(input(\"nhap vao chieu dai b: \"))\n",
    "print(\"dien tich con trong\", f\"{(a*b-(a/2)**2*3.14):.2f}\")"
   ]
  },
  {
   "cell_type": "markdown",
   "id": "875d4dd1",
   "metadata": {},
   "source": [
    "Bai 3:"
   ]
  },
  {
   "cell_type": "code",
   "execution_count": null,
   "id": "9407808f",
   "metadata": {},
   "outputs": [
    {
     "name": "stdout",
     "output_type": "stream",
     "text": [
      "in hoa F\n"
     ]
    }
   ],
   "source": [
    "c= input(\"nhap vao ki tu c: \")\n",
    "if c.islower():\n",
    "    print(\"in hoa\", c.upper())\n",
    "else:\n",
    "    print(\"in thuong\", c.lower())\n"
   ]
  },
  {
   "cell_type": "markdown",
   "id": "badc2709",
   "metadata": {},
   "source": [
    "Bai 4:"
   ]
  },
  {
   "cell_type": "code",
   "execution_count": null,
   "id": "1d99fe76",
   "metadata": {},
   "outputs": [
    {
     "name": "stdout",
     "output_type": "stream",
     "text": [
      "f la chu cai\n"
     ]
    }
   ],
   "source": [
    "c = input(\"nhap vao ki tu c: \")\n",
    "if c.isalpha(): print(f\"{c} la chu cai\")\n",
    "else: print(f\" {c} khong phai chu cai\")"
   ]
  },
  {
   "cell_type": "markdown",
   "id": "756247e9",
   "metadata": {},
   "source": [
    "Bai 5:"
   ]
  },
  {
   "cell_type": "code",
   "execution_count": null,
   "id": "924fb312",
   "metadata": {},
   "outputs": [
    {
     "name": "stdout",
     "output_type": "stream",
     "text": [
      "q\n"
     ]
    }
   ],
   "source": [
    "c = input(\"nhap vao chu cai in hoa C: \")\n",
    "if c!=\"A\": print(chr(ord(c)+31))\n",
    "else : print(\"z\")"
   ]
  },
  {
   "cell_type": "markdown",
   "id": "aff44a4d",
   "metadata": {},
   "source": [
    "Bai 6:"
   ]
  },
  {
   "cell_type": "code",
   "execution_count": null,
   "id": "86e3dd5e",
   "metadata": {},
   "outputs": [
    {
     "name": "stdout",
     "output_type": "stream",
     "text": [
      "dien tich tam giac 6.0\n"
     ]
    }
   ],
   "source": [
    "a, b, c = map(float, input(\"nhap vao 3 so a,b,c tren cung 1 dong: \").split())\n",
    "if a+b>c and a+c>b and b+c>a:\n",
    "    p= (a+b+c)/2\n",
    "    print(\"dien tich tam giac\", (p*(p-a)*(p-b)*(p-c))**0.5)\n",
    "else: print(\"khong phai 3 canh tam giac\")"
   ]
  },
  {
   "cell_type": "markdown",
   "id": "dd3ed4b9",
   "metadata": {},
   "source": [
    "Bai 7:"
   ]
  },
  {
   "cell_type": "code",
   "execution_count": null,
   "id": "20fa9c2a",
   "metadata": {},
   "outputs": [
    {
     "name": "stdout",
     "output_type": "stream",
     "text": [
      "ki tu thu 5 là n va ki tu thu 9 là y\n"
     ]
    }
   ],
   "source": [
    "s = input(\"nhap vao chuoi ki tu: \")\n",
    "print(f\"ki tu thu 5 là {s[5]} va ki tu thu 9 là {s[9]}\")"
   ]
  },
  {
   "cell_type": "markdown",
   "id": "64901494",
   "metadata": {},
   "source": [
    "Bai 8:"
   ]
  },
  {
   "cell_type": "code",
   "execution_count": null,
   "id": "3d364fe6",
   "metadata": {},
   "outputs": [
    {
     "name": "stdout",
     "output_type": "stream",
     "text": [
      "586\n",
      "Ho va ten: a\n",
      "Tien phai tra la: 1855505\n"
     ]
    }
   ],
   "source": [
    "ten = input(\"Ten chu ho: \")\n",
    "truoc = input(\"Chi so thang truoc: \")\n",
    "sau = input(\"Chi so thang sau: \")\n",
    "tieu_thu = int(sau) - int(truoc)\n",
    "tien = 0\n",
    "bac = [400, 300, 200, 100, 50, 0]\n",
    "don_gia  = [3460, 3350, 2998, 2380, 2050, 1984]\n",
    "for i in range(6):\n",
    "    #print(tieu_thu)\n",
    "    if tieu_thu > bac[i]:\n",
    "        tien += (tieu_thu - bac[i]) * don_gia[i]\n",
    "        tieu_thu = bac[i]\n",
    "print(f\"Ho va ten: {ten}\")\n",
    "print(f\"Tien phai tra la: {round(tien*1.08)}\")"
   ]
  }
 ],
 "metadata": {
  "kernelspec": {
   "display_name": "Python 3",
   "language": "python",
   "name": "python3"
  },
  "language_info": {
   "codemirror_mode": {
    "name": "ipython",
    "version": 3
   },
   "file_extension": ".py",
   "mimetype": "text/x-python",
   "name": "python",
   "nbconvert_exporter": "python",
   "pygments_lexer": "ipython3",
   "version": "3.13.7"
  }
 },
 "nbformat": 4,
 "nbformat_minor": 5
}
