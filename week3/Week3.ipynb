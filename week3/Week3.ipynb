{
 "cells": [
  {
   "cell_type": "markdown",
   "id": "400ab3c9",
   "metadata": {},
   "source": [
    "b1"
   ]
  },
  {
   "cell_type": "code",
   "execution_count": 14,
   "id": "0ad1b7b7",
   "metadata": {},
   "outputs": [
    {
     "name": "stdout",
     "output_type": "stream",
     "text": [
      "1\n"
     ]
    }
   ],
   "source": [
    "a=input()\n",
    "print(a[::-1])"
   ]
  },
  {
   "cell_type": "markdown",
   "id": "a8722e94",
   "metadata": {},
   "source": [
    "b2"
   ]
  },
  {
   "cell_type": "code",
   "execution_count": 21,
   "id": "c0f6ebbc",
   "metadata": {},
   "outputs": [
    {
     "name": "stdout",
     "output_type": "stream",
     "text": [
      "5 5\n"
     ]
    }
   ],
   "source": [
    "a, b = map(int, input().split())\n",
    "a = a ^ b\n",
    "b = a ^ b\n",
    "a = a ^ b\n",
    "print(a, b)"
   ]
  },
  {
   "cell_type": "markdown",
   "id": "0cae84b3",
   "metadata": {},
   "source": [
    "b3"
   ]
  },
  {
   "cell_type": "code",
   "execution_count": 27,
   "id": "1b937a0a",
   "metadata": {},
   "outputs": [
    {
     "name": "stdout",
     "output_type": "stream",
     "text": [
      "False\n"
     ]
    }
   ],
   "source": [
    "a = int(input())\n",
    "print(True if a & a -1 ==0 else False)"
   ]
  },
  {
   "cell_type": "markdown",
   "id": "7445ae9b",
   "metadata": {},
   "source": [
    "    b4"
   ]
  },
  {
   "cell_type": "code",
   "execution_count": 32,
   "id": "861fe095",
   "metadata": {},
   "outputs": [
    {
     "name": "stdout",
     "output_type": "stream",
     "text": [
      "1221\n"
     ]
    }
   ],
   "source": [
    "m, n = map(int, input().split())\n",
    "print(m//n)"
   ]
  },
  {
   "cell_type": "markdown",
   "id": "515921ef",
   "metadata": {},
   "source": [
    "b5"
   ]
  },
  {
   "cell_type": "code",
   "execution_count": 5,
   "id": "7673f7ac",
   "metadata": {},
   "outputs": [
    {
     "name": "stdout",
     "output_type": "stream",
     "text": [
      "1221\n"
     ]
    }
   ],
   "source": [
    "m, n = map(int, input().split())\n",
    "print(m//n if m % n == 0 else m//n + 1)"
   ]
  },
  {
   "cell_type": "markdown",
   "id": "84281f38",
   "metadata": {},
   "source": [
    "b6"
   ]
  },
  {
   "cell_type": "code",
   "execution_count": 7,
   "id": "13588b79",
   "metadata": {},
   "outputs": [
    {
     "name": "stdout",
     "output_type": "stream",
     "text": [
      "Even\n"
     ]
    }
   ],
   "source": [
    "a = int(input())\n",
    "print(\"Even\" if a % 2 == 0 else \"Odd\")\n"
   ]
  },
  {
   "cell_type": "markdown",
   "id": "5e705b40",
   "metadata": {},
   "source": [
    "b7"
   ]
  },
  {
   "cell_type": "code",
   "execution_count": 13,
   "id": "ef51cc42",
   "metadata": {},
   "outputs": [
    {
     "name": "stdout",
     "output_type": "stream",
     "text": [
      "No\n"
     ]
    }
   ],
   "source": [
    "a = int(input())\n",
    "b = int(input())\n",
    "print(\"Yes\" if a<0 and b<0 else \"No\")"
   ]
  },
  {
   "cell_type": "markdown",
   "id": "25bc7215",
   "metadata": {},
   "source": [
    "b8"
   ]
  },
  {
   "cell_type": "code",
   "execution_count": 15,
   "id": "d25ea5a9",
   "metadata": {},
   "outputs": [
    {
     "name": "stdout",
     "output_type": "stream",
     "text": [
      "True\n"
     ]
    }
   ],
   "source": [
    "a =input()\n",
    "b =input()\n",
    "print(True if len(a)>len(b) else False)"
   ]
  },
  {
   "cell_type": "markdown",
   "id": "99c37038",
   "metadata": {},
   "source": [
    "b9"
   ]
  },
  {
   "cell_type": "code",
   "execution_count": 1,
   "id": "0dc55905",
   "metadata": {},
   "outputs": [
    {
     "name": "stdout",
     "output_type": "stream",
     "text": [
      "Yes\n"
     ]
    }
   ],
   "source": [
    "a = int(input())\n",
    "b = int(input())\n",
    "c = int(input())\n",
    "print(\"Yes\" if (a + b > c) and (a + c > b) and (b + c > a) else \"No\")"
   ]
  },
  {
   "cell_type": "markdown",
   "id": "4963ed6d",
   "metadata": {},
   "source": [
    "b10"
   ]
  },
  {
   "cell_type": "code",
   "execution_count": 5,
   "id": "e5c2c4be",
   "metadata": {},
   "outputs": [
    {
     "name": "stdout",
     "output_type": "stream",
     "text": [
      "9999\n"
     ]
    }
   ],
   "source": [
    "a = int(input())\n",
    "b = int(input())\n",
    "c = int(input())\n",
    "d = int(input())\n",
    "print(max(a, b, c, d))"
   ]
  },
  {
   "cell_type": "markdown",
   "id": "00d41605",
   "metadata": {},
   "source": [
    "b11"
   ]
  },
  {
   "cell_type": "code",
   "execution_count": 10,
   "id": "407a764e",
   "metadata": {},
   "outputs": [
    {
     "name": "stdout",
     "output_type": "stream",
     "text": [
      "Không phải tam giác\n"
     ]
    }
   ],
   "source": [
    "a, b, c = map(int, input().split())\n",
    "if (a + b > c) and (a + c > b) and (b + c > a):\n",
    "    print(\"Tam giác đều\" if a == b == c else \"Tam giác cân\" if a == b or b == c or a == c else \"Tam giác thường\")\n",
    "else:\n",
    "    print(\"Không phải tam giác\")"
   ]
  },
  {
   "cell_type": "markdown",
   "id": "23b56b84",
   "metadata": {},
   "source": [
    "b12"
   ]
  },
  {
   "cell_type": "code",
   "execution_count": null,
   "id": "b0c2acf3",
   "metadata": {},
   "outputs": [],
   "source": [
    "a = int(input())\n",
    "print(\"Yes\" if a % 4 == 0 and (a % 100 != 0 or a % 400 == 0) else \"No\")"
   ]
  },
  {
   "cell_type": "markdown",
   "id": "6e876571",
   "metadata": {},
   "source": [
    "b13"
   ]
  },
  {
   "cell_type": "code",
   "execution_count": 9,
   "id": "b891a47d",
   "metadata": {},
   "outputs": [
    {
     "name": "stdout",
     "output_type": "stream",
     "text": [
      "115000\n"
     ]
    }
   ],
   "source": [
    "a = int(input())\n",
    "bac = [0, 50, 100]\n",
    "don_gia = [1500, 2000, 3000]\n",
    "tien = 0\n",
    "if a >bac[2]:\n",
    "    tien += (a - bac[2]) * don_gia[2]\n",
    "    a = bac[2]\n",
    "if a > bac[1]:\n",
    "    tien += (a - bac[1]) * don_gia[1]\n",
    "    a = bac[1]\n",
    "if a > bac[0]:\n",
    "    tien += (a - bac[0]) * don_gia[0]\n",
    "print(tien)"
   ]
  },
  {
   "cell_type": "markdown",
   "id": "8e8314f6",
   "metadata": {},
   "source": [
    "b14"
   ]
  },
  {
   "cell_type": "code",
   "execution_count": 16,
   "id": "4bfdd3ad",
   "metadata": {},
   "outputs": [
    {
     "name": "stdout",
     "output_type": "stream",
     "text": [
      "-430.87\n"
     ]
    }
   ],
   "source": [
    "a = float(input())\n",
    "b = float(input())\n",
    "if a == 0 and b == 0:\n",
    "    print(\"Vô số nghiệm\")\n",
    "elif a == 0 and b != 0:\n",
    "    print(\"Vô nghiệm\")\n",
    "else:\n",
    "    print(f\"{-b/a:.2f}\")   "
   ]
  },
  {
   "cell_type": "markdown",
   "id": "6de71423",
   "metadata": {},
   "source": [
    "b15"
   ]
  },
  {
   "cell_type": "code",
   "execution_count": 22,
   "id": "d550da8f",
   "metadata": {},
   "outputs": [
    {
     "name": "stdout",
     "output_type": "stream",
     "text": [
      "Giỏi\n"
     ]
    }
   ],
   "source": [
    "a = float(input())\n",
    "if a >= 8.0:\n",
    "    print(\"Giỏi\")\n",
    "elif a >= 6.5:\n",
    "    print(\"Khá\")\n",
    "elif a >= 5.0:\n",
    "    print(\"Trung bình\")\n",
    "else:\n",
    "    print(\"Yếu\")"
   ]
  },
  {
   "cell_type": "markdown",
   "id": "e800fb1b",
   "metadata": {},
   "source": [
    "b16"
   ]
  },
  {
   "cell_type": "code",
   "execution_count": 1,
   "id": "9cf38a3c",
   "metadata": {},
   "outputs": [
    {
     "name": "stdout",
     "output_type": "stream",
     "text": [
      "-7 -8 -8\n"
     ]
    }
   ],
   "source": [
    "a = float(input())\n",
    "b = int(a)\n",
    "if a >= 0:\n",
    "    print(b + 1, b, b if a - b < 0.5 else b + 1)\n",
    "else:\n",
    "    print(b, b - 1, b if b - a < 0.5 else b - 1)\n"
   ]
  }
 ],
 "metadata": {
  "kernelspec": {
   "display_name": "Python 3",
   "language": "python",
   "name": "python3"
  },
  "language_info": {
   "codemirror_mode": {
    "name": "ipython",
    "version": 3
   },
   "file_extension": ".py",
   "mimetype": "text/x-python",
   "name": "python",
   "nbconvert_exporter": "python",
   "pygments_lexer": "ipython3",
   "version": "3.13.7"
  }
 },
 "nbformat": 4,
 "nbformat_minor": 5
}
