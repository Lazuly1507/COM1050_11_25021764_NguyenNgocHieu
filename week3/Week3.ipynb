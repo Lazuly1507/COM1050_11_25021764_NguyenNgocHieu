{
 "cells": [
  {
   "cell_type": "markdown",
   "id": "400ab3c9",
   "metadata": {},
   "source": [
    "b1"
   ]
  },
  {
   "cell_type": "code",
   "execution_count": 14,
   "id": "0ad1b7b7",
   "metadata": {},
   "outputs": [
    {
     "name": "stdout",
     "output_type": "stream",
     "text": [
      "1\n"
     ]
    }
   ],
   "source": [
    "a=input()\n",
    "print(a[::-1])"
   ]
  },
  {
   "cell_type": "markdown",
   "id": "a8722e94",
   "metadata": {},
   "source": [
    "b2"
   ]
  },
  {
   "cell_type": "code",
   "execution_count": 21,
   "id": "c0f6ebbc",
   "metadata": {},
   "outputs": [
    {
     "name": "stdout",
     "output_type": "stream",
     "text": [
      "5 5\n"
     ]
    }
   ],
   "source": [
    "a, b = map(int, input().split())\n",
    "a = a ^ b\n",
    "b = a ^ b\n",
    "a = a ^ b\n",
    "print(a, b)"
   ]
  },
  {
   "cell_type": "markdown",
   "id": "0cae84b3",
   "metadata": {},
   "source": [
    "b3"
   ]
  },
  {
   "cell_type": "code",
   "execution_count": 27,
   "id": "1b937a0a",
   "metadata": {},
   "outputs": [
    {
     "name": "stdout",
     "output_type": "stream",
     "text": [
      "False\n"
     ]
    }
   ],
   "source": [
    "a = int(input())\n",
    "print(True if a & a -1 ==0 else False)"
   ]
  },
  {
   "cell_type": "markdown",
   "id": "7445ae9b",
   "metadata": {},
   "source": [
    "    b4"
   ]
  },
  {
   "cell_type": "code",
   "execution_count": 32,
   "id": "861fe095",
   "metadata": {},
   "outputs": [
    {
     "name": "stdout",
     "output_type": "stream",
     "text": [
      "1221\n"
     ]
    }
   ],
   "source": [
    "m, n = map(int, input().split())\n",
    "print(m//n)"
   ]
  },
  {
   "cell_type": "markdown",
   "id": "515921ef",
   "metadata": {},
   "source": [
    "b5"
   ]
  },
  {
   "cell_type": "code",
   "execution_count": null,
   "id": "7673f7ac",
   "metadata": {},
   "outputs": [],
   "source": [
    "m, n = map(int, input().split())\n"
   ]
  }
 ],
 "metadata": {
  "kernelspec": {
   "display_name": "Python 3",
   "language": "python",
   "name": "python3"
  },
  "language_info": {
   "codemirror_mode": {
    "name": "ipython",
    "version": 3
   },
   "file_extension": ".py",
   "mimetype": "text/x-python",
   "name": "python",
   "nbconvert_exporter": "python",
   "pygments_lexer": "ipython3",
   "version": "3.13.7"
  }
 },
 "nbformat": 4,
 "nbformat_minor": 5
}
